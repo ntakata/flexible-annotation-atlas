{
 "cells": [
  {
   "cell_type": "markdown",
   "metadata": {},
   "source": [
    "# Correct IDs in annotation volume according to re-assigned anatomical ontology\n",
    "This notebook updates IDs of annotation volume (AV) to reflect re-assigned ID in annotation ontology (AO).\n",
    "\n",
    "- inputs\n",
    "    - annotation_100_segmented_combined_gene_fiber_LR.nrrd\n",
    "    - oldnewID.csv\n",
    "- output\n",
    "    - LR_reID.nrrd"
   ]
  },
  {
   "cell_type": "code",
   "execution_count": 83,
   "metadata": {},
   "outputs": [],
   "source": [
    "dir_data = 'data'\n",
    "\n",
    "# forFigs\n",
    "fn_input_ID = 'remapIDpairs_base.csv'\n",
    "fn_input_AV = 'annotation_100.nrrd'\n",
    "fn_output_AV = 'annotation_100_remapID.nrrd'"
   ]
  },
  {
   "cell_type": "code",
   "execution_count": 82,
   "metadata": {},
   "outputs": [],
   "source": [
    "import os\n",
    "import nrrd\n",
    "import numpy as np\n",
    "import pandas as pd\n",
    "import copy"
   ]
  },
  {
   "cell_type": "markdown",
   "metadata": {},
   "source": [
    "# Load data"
   ]
  },
  {
   "cell_type": "code",
   "execution_count": 84,
   "metadata": {},
   "outputs": [],
   "source": [
    "AV, Header = nrrd.read(os.path.join(dir_data, fn_input_AV))\n",
    "df_IDs = pd.read_csv(os.path.join(dir_data, fn_input_ID))"
   ]
  },
  {
   "cell_type": "markdown",
   "metadata": {},
   "source": [
    "# Modify IDs for remapped ROIs"
   ]
  },
  {
   "cell_type": "code",
   "execution_count": 85,
   "metadata": {},
   "outputs": [],
   "source": [
    "AV_modified = copy.deepcopy(AV)\n",
    "for idx, old_ID in enumerate(df_IDs.old_ID):\n",
    "    # AV_modified[AV_modified == old_ID] = df_IDs.iloc[idx,:].new_ID # <- 5/22 critical!\n",
    "    AV_modified[AV == old_ID] = df_IDs.iloc[idx,:].new_ID\n",
    "    \n",
    "if fn_input_AV == 'annotation_100_segmented.nrrd':\n",
    "    AV_modified[AV == 1000000028] = 0 # root_peri is deleted"
   ]
  },
  {
   "cell_type": "markdown",
   "metadata": {},
   "source": [
    "# Save AV with reassigned ID"
   ]
  },
  {
   "cell_type": "code",
   "execution_count": 86,
   "metadata": {},
   "outputs": [],
   "source": [
    "nrrd.write(os.path.join(dir_data, fn_output_AV), AV_modified, Header)"
   ]
  },
  {
   "cell_type": "markdown",
   "metadata": {},
   "source": [
    "# Check data"
   ]
  },
  {
   "cell_type": "code",
   "execution_count": 87,
   "metadata": {},
   "outputs": [
    {
     "data": {
      "text/html": [
       "<div>\n",
       "<style scoped>\n",
       "    .dataframe tbody tr th:only-of-type {\n",
       "        vertical-align: middle;\n",
       "    }\n",
       "\n",
       "    .dataframe tbody tr th {\n",
       "        vertical-align: top;\n",
       "    }\n",
       "\n",
       "    .dataframe thead th {\n",
       "        text-align: right;\n",
       "    }\n",
       "</style>\n",
       "<table border=\"1\" class=\"dataframe\">\n",
       "  <thead>\n",
       "    <tr style=\"text-align: right;\">\n",
       "      <th></th>\n",
       "      <th>old_ID</th>\n",
       "      <th>new_ID</th>\n",
       "      <th>acronym</th>\n",
       "      <th>name</th>\n",
       "      <th>voxel_count</th>\n",
       "      <th>color</th>\n",
       "    </tr>\n",
       "  </thead>\n",
       "  <tbody>\n",
       "    <tr>\n",
       "      <th>0</th>\n",
       "      <td>997</td>\n",
       "      <td>1</td>\n",
       "      <td>root</td>\n",
       "      <td>root</td>\n",
       "      <td>3589.0</td>\n",
       "      <td>FFFFFF</td>\n",
       "    </tr>\n",
       "    <tr>\n",
       "      <th>1</th>\n",
       "      <td>8</td>\n",
       "      <td>2</td>\n",
       "      <td>grey</td>\n",
       "      <td>Basic cell groups and regions</td>\n",
       "      <td>NaN</td>\n",
       "      <td>BFDAE3</td>\n",
       "    </tr>\n",
       "    <tr>\n",
       "      <th>2</th>\n",
       "      <td>567</td>\n",
       "      <td>3</td>\n",
       "      <td>CH</td>\n",
       "      <td>Cerebrum</td>\n",
       "      <td>NaN</td>\n",
       "      <td>B0F0FF</td>\n",
       "    </tr>\n",
       "    <tr>\n",
       "      <th>3</th>\n",
       "      <td>688</td>\n",
       "      <td>4</td>\n",
       "      <td>CTX</td>\n",
       "      <td>Cerebral cortex</td>\n",
       "      <td>NaN</td>\n",
       "      <td>B0FFB8</td>\n",
       "    </tr>\n",
       "    <tr>\n",
       "      <th>4</th>\n",
       "      <td>695</td>\n",
       "      <td>5</td>\n",
       "      <td>CTXpl</td>\n",
       "      <td>Cortical plate</td>\n",
       "      <td>NaN</td>\n",
       "      <td>70FF70</td>\n",
       "    </tr>\n",
       "  </tbody>\n",
       "</table>\n",
       "</div>"
      ],
      "text/plain": [
       "   old_ID  new_ID acronym                           name  voxel_count   color\n",
       "0     997       1    root                           root       3589.0  FFFFFF\n",
       "1       8       2    grey  Basic cell groups and regions          NaN  BFDAE3\n",
       "2     567       3      CH                       Cerebrum          NaN  B0F0FF\n",
       "3     688       4     CTX                Cerebral cortex          NaN  B0FFB8\n",
       "4     695       5   CTXpl                 Cortical plate          NaN  70FF70"
      ]
     },
     "execution_count": 87,
     "metadata": {},
     "output_type": "execute_result"
    }
   ],
   "source": [
    "df_IDs.head() # This is the same as segmentedIDs.csv"
   ]
  },
  {
   "cell_type": "code",
   "execution_count": 88,
   "metadata": {},
   "outputs": [
    {
     "data": {
      "text/html": [
       "<div>\n",
       "<style scoped>\n",
       "    .dataframe tbody tr th:only-of-type {\n",
       "        vertical-align: middle;\n",
       "    }\n",
       "\n",
       "    .dataframe tbody tr th {\n",
       "        vertical-align: top;\n",
       "    }\n",
       "\n",
       "    .dataframe thead th {\n",
       "        text-align: right;\n",
       "    }\n",
       "</style>\n",
       "<table border=\"1\" class=\"dataframe\">\n",
       "  <thead>\n",
       "    <tr style=\"text-align: right;\">\n",
       "      <th></th>\n",
       "      <th>old_ID</th>\n",
       "      <th>new_ID</th>\n",
       "      <th>acronym</th>\n",
       "      <th>name</th>\n",
       "      <th>voxel_count</th>\n",
       "      <th>color</th>\n",
       "    </tr>\n",
       "  </thead>\n",
       "  <tbody>\n",
       "    <tr>\n",
       "      <th>1317</th>\n",
       "      <td>11</td>\n",
       "      <td>1318</td>\n",
       "      <td>plf</td>\n",
       "      <td>posterolateral fissure</td>\n",
       "      <td>NaN</td>\n",
       "      <td>AAAAAA</td>\n",
       "    </tr>\n",
       "    <tr>\n",
       "      <th>1318</th>\n",
       "      <td>18</td>\n",
       "      <td>1319</td>\n",
       "      <td>nf</td>\n",
       "      <td>nodular fissure</td>\n",
       "      <td>NaN</td>\n",
       "      <td>AAAAAA</td>\n",
       "    </tr>\n",
       "    <tr>\n",
       "      <th>1319</th>\n",
       "      <td>25</td>\n",
       "      <td>1320</td>\n",
       "      <td>sif</td>\n",
       "      <td>simple fissure</td>\n",
       "      <td>NaN</td>\n",
       "      <td>AAAAAA</td>\n",
       "    </tr>\n",
       "    <tr>\n",
       "      <th>1320</th>\n",
       "      <td>34</td>\n",
       "      <td>1321</td>\n",
       "      <td>icf</td>\n",
       "      <td>intercrural fissure</td>\n",
       "      <td>NaN</td>\n",
       "      <td>AAAAAA</td>\n",
       "    </tr>\n",
       "    <tr>\n",
       "      <th>1321</th>\n",
       "      <td>43</td>\n",
       "      <td>1322</td>\n",
       "      <td>apf</td>\n",
       "      <td>ansoparamedian fissure</td>\n",
       "      <td>NaN</td>\n",
       "      <td>AAAAAA</td>\n",
       "    </tr>\n",
       "    <tr>\n",
       "      <th>1322</th>\n",
       "      <td>49</td>\n",
       "      <td>1323</td>\n",
       "      <td>ipf</td>\n",
       "      <td>intraparafloccular fissure</td>\n",
       "      <td>NaN</td>\n",
       "      <td>AAAAAA</td>\n",
       "    </tr>\n",
       "    <tr>\n",
       "      <th>1323</th>\n",
       "      <td>57</td>\n",
       "      <td>1324</td>\n",
       "      <td>pms</td>\n",
       "      <td>paramedian sulcus</td>\n",
       "      <td>NaN</td>\n",
       "      <td>AAAAAA</td>\n",
       "    </tr>\n",
       "    <tr>\n",
       "      <th>1324</th>\n",
       "      <td>65</td>\n",
       "      <td>1325</td>\n",
       "      <td>pfs</td>\n",
       "      <td>parafloccular sulcus</td>\n",
       "      <td>NaN</td>\n",
       "      <td>AAAAAA</td>\n",
       "    </tr>\n",
       "    <tr>\n",
       "      <th>1325</th>\n",
       "      <td>624</td>\n",
       "      <td>1326</td>\n",
       "      <td>IPF</td>\n",
       "      <td>Interpeduncular fossa</td>\n",
       "      <td>NaN</td>\n",
       "      <td>AAAAAA</td>\n",
       "    </tr>\n",
       "    <tr>\n",
       "      <th>1326</th>\n",
       "      <td>304325711</td>\n",
       "      <td>1327</td>\n",
       "      <td>retina</td>\n",
       "      <td>retina</td>\n",
       "      <td>NaN</td>\n",
       "      <td>7F2E7E</td>\n",
       "    </tr>\n",
       "  </tbody>\n",
       "</table>\n",
       "</div>"
      ],
      "text/plain": [
       "         old_ID  new_ID acronym                        name  voxel_count  \\\n",
       "1317         11    1318     plf      posterolateral fissure          NaN   \n",
       "1318         18    1319      nf             nodular fissure          NaN   \n",
       "1319         25    1320     sif              simple fissure          NaN   \n",
       "1320         34    1321     icf         intercrural fissure          NaN   \n",
       "1321         43    1322     apf      ansoparamedian fissure          NaN   \n",
       "1322         49    1323     ipf  intraparafloccular fissure          NaN   \n",
       "1323         57    1324     pms           paramedian sulcus          NaN   \n",
       "1324         65    1325     pfs        parafloccular sulcus          NaN   \n",
       "1325        624    1326     IPF       Interpeduncular fossa          NaN   \n",
       "1326  304325711    1327  retina                      retina          NaN   \n",
       "\n",
       "       color  \n",
       "1317  AAAAAA  \n",
       "1318  AAAAAA  \n",
       "1319  AAAAAA  \n",
       "1320  AAAAAA  \n",
       "1321  AAAAAA  \n",
       "1322  AAAAAA  \n",
       "1323  AAAAAA  \n",
       "1324  AAAAAA  \n",
       "1325  AAAAAA  \n",
       "1326  7F2E7E  "
      ]
     },
     "execution_count": 88,
     "metadata": {},
     "output_type": "execute_result"
    }
   ],
   "source": [
    "df_IDs.tail(10)"
   ]
  },
  {
   "cell_type": "code",
   "execution_count": 89,
   "metadata": {},
   "outputs": [
    {
     "data": {
      "text/plain": [
       "614454277"
      ]
     },
     "execution_count": 89,
     "metadata": {},
     "output_type": "execute_result"
    }
   ],
   "source": [
    "np.max(df_IDs.old_ID)\n",
    "# np.sum(AV_modified == 865)\n",
    "# AV_modified"
   ]
  },
  {
   "cell_type": "code",
   "execution_count": 90,
   "metadata": {},
   "outputs": [
    {
     "data": {
      "text/plain": [
       "-1731770394"
      ]
     },
     "execution_count": 90,
     "metadata": {},
     "output_type": "execute_result"
    }
   ],
   "source": [
    "# np.sum(AV.data.tolist() > 10**9)\n",
    "# AV.dtype\n",
    "np.sum(list(filter((10**9).__le__, AV.data.tolist())))"
   ]
  },
  {
   "cell_type": "code",
   "execution_count": 91,
   "metadata": {},
   "outputs": [
    {
     "data": {
      "text/plain": [
       "1303"
      ]
     },
     "execution_count": 91,
     "metadata": {},
     "output_type": "execute_result"
    }
   ],
   "source": [
    "np.max(AV_modified.data)"
   ]
  }
 ],
 "metadata": {
  "kernelspec": {
   "display_name": "Python 3",
   "language": "python",
   "name": "python3"
  },
  "language_info": {
   "codemirror_mode": {
    "name": "ipython",
    "version": 3
   },
   "file_extension": ".py",
   "mimetype": "text/x-python",
   "name": "python",
   "nbconvert_exporter": "python",
   "pygments_lexer": "ipython3",
   "version": "3.7.1"
  },
  "toc": {
   "base_numbering": 1,
   "nav_menu": {},
   "number_sections": true,
   "sideBar": false,
   "skip_h1_title": false,
   "title_cell": "Table of Contents",
   "title_sidebar": "Contents",
   "toc_cell": false,
   "toc_position": {
    "height": "946px",
    "left": "36px",
    "top": "92px",
    "width": "354.2px"
   },
   "toc_section_display": true,
   "toc_window_display": false
  }
 },
 "nbformat": 4,
 "nbformat_minor": 2
}
