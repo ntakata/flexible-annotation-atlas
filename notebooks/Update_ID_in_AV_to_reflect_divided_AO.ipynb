{
 "cells": [
  {
   "cell_type": "markdown",
   "metadata": {},
   "source": [
    "# Update IDs in annotation volume according to divided anatomical ontology\n",
    "This notebook updates IDs of divided nodes from original ID.\n",
    "\n",
    "- inputs\n",
    "    - annotation_100.nrrd\n",
    "    - dividedIDs.csv\n",
    "- output\n",
    "    - annotation_100_divided.nrrd"
   ]
  },
  {
   "cell_type": "markdown",
   "metadata": {},
   "source": [
    "# Set variables"
   ]
  },
  {
   "cell_type": "code",
   "execution_count": null,
   "metadata": {},
   "outputs": [],
   "source": [
    "dir_data = 'data'\n",
    "\n",
    "fn_input_AV = 'annotation_100.nrrd'\n",
    "fn_input_ID = 'dividedIDs.csv'\n",
    "fn_output_AV = 'AVbase.nrrd'#'annotation_100_divided.nrrd'"
   ]
  },
  {
   "cell_type": "code",
   "execution_count": 13,
   "metadata": {},
   "outputs": [],
   "source": [
    "import os\n",
    "import nrrd\n",
    "import numpy as np\n",
    "import pandas as pd\n",
    "import copy"
   ]
  },
  {
   "cell_type": "markdown",
   "metadata": {},
   "source": [
    "# Load data"
   ]
  },
  {
   "cell_type": "code",
   "execution_count": 15,
   "metadata": {},
   "outputs": [],
   "source": [
    "AV, Header = nrrd.read(os.path.join(dir_data, fn_input_AV))\n",
    "df_dividedIDs = pd.read_csv(os.path.join(dir_data, fn_input_ID))"
   ]
  },
  {
   "cell_type": "markdown",
   "metadata": {},
   "source": [
    "# Modify IDs for divided ROIs"
   ]
  },
  {
   "cell_type": "code",
   "execution_count": 16,
   "metadata": {},
   "outputs": [],
   "source": [
    "AV_modified = copy.deepcopy(AV)\n",
    "for idx, originalID in enumerate(df_dividedIDs.divided_ID):\n",
    "    AV_modified[AV_modified == originalID] = df_dividedIDs.iloc[idx,:].new_ID"
   ]
  },
  {
   "cell_type": "markdown",
   "metadata": {},
   "source": [
    "# Save divided AV"
   ]
  },
  {
   "cell_type": "code",
   "execution_count": 17,
   "metadata": {},
   "outputs": [],
   "source": [
    "nrrd.write(os.path.join(dir_data, fn_output_AV), AV_modified, Header)"
   ]
  },
  {
   "cell_type": "markdown",
   "metadata": {},
   "source": [
    "# Check data"
   ]
  },
  {
   "cell_type": "code",
   "execution_count": 18,
   "metadata": {},
   "outputs": [
    {
     "data": {
      "text/html": [
       "<div>\n",
       "<style scoped>\n",
       "    .dataframe tbody tr th:only-of-type {\n",
       "        vertical-align: middle;\n",
       "    }\n",
       "\n",
       "    .dataframe tbody tr th {\n",
       "        vertical-align: top;\n",
       "    }\n",
       "\n",
       "    .dataframe thead th {\n",
       "        text-align: right;\n",
       "    }\n",
       "</style>\n",
       "<table border=\"1\" class=\"dataframe\">\n",
       "  <thead>\n",
       "    <tr style=\"text-align: right;\">\n",
       "      <th></th>\n",
       "      <th>segmented_ID</th>\n",
       "      <th>acronym</th>\n",
       "      <th>name</th>\n",
       "      <th>voxel_count</th>\n",
       "      <th>new_ID</th>\n",
       "    </tr>\n",
       "  </thead>\n",
       "  <tbody>\n",
       "    <tr>\n",
       "      <th>0</th>\n",
       "      <td>145</td>\n",
       "      <td>V4</td>\n",
       "      <td>fourth ventricle</td>\n",
       "      <td>523</td>\n",
       "      <td>1000000000</td>\n",
       "    </tr>\n",
       "    <tr>\n",
       "      <th>1</th>\n",
       "      <td>81</td>\n",
       "      <td>VL</td>\n",
       "      <td>lateral ventricle</td>\n",
       "      <td>2138</td>\n",
       "      <td>1000000001</td>\n",
       "    </tr>\n",
       "    <tr>\n",
       "      <th>2</th>\n",
       "      <td>301</td>\n",
       "      <td>st</td>\n",
       "      <td>stria terminalis</td>\n",
       "      <td>292</td>\n",
       "      <td>1000000002</td>\n",
       "    </tr>\n",
       "    <tr>\n",
       "      <th>3</th>\n",
       "      <td>863</td>\n",
       "      <td>rust</td>\n",
       "      <td>rubrospinal tract</td>\n",
       "      <td>564</td>\n",
       "      <td>1000000003</td>\n",
       "    </tr>\n",
       "    <tr>\n",
       "      <th>4</th>\n",
       "      <td>784</td>\n",
       "      <td>cst</td>\n",
       "      <td>corticospinal tract</td>\n",
       "      <td>92</td>\n",
       "      <td>1000000004</td>\n",
       "    </tr>\n",
       "  </tbody>\n",
       "</table>\n",
       "</div>"
      ],
      "text/plain": [
       "   segmented_ID acronym                 name  voxel_count      new_ID\n",
       "0           145      V4     fourth ventricle          523  1000000000\n",
       "1            81      VL    lateral ventricle         2138  1000000001\n",
       "2           301      st     stria terminalis          292  1000000002\n",
       "3           863    rust    rubrospinal tract          564  1000000003\n",
       "4           784     cst  corticospinal tract           92  1000000004"
      ]
     },
     "execution_count": 18,
     "metadata": {},
     "output_type": "execute_result"
    }
   ],
   "source": [
    "df_dividedIDs.head() # This is the same as dividedIDs.csv"
   ]
  }
 ],
 "metadata": {
  "kernelspec": {
   "display_name": "Python 3",
   "language": "python",
   "name": "python3"
  },
  "language_info": {
   "codemirror_mode": {
    "name": "ipython",
    "version": 3
   },
   "file_extension": ".py",
   "mimetype": "text/x-python",
   "name": "python",
   "nbconvert_exporter": "python",
   "pygments_lexer": "ipython3",
   "version": "3.7.1"
  },
  "toc": {
   "base_numbering": 1,
   "nav_menu": {},
   "number_sections": true,
   "sideBar": false,
   "skip_h1_title": false,
   "title_cell": "Table of Contents",
   "title_sidebar": "Contents",
   "toc_cell": false,
   "toc_position": {
    "height": "946px",
    "left": "36px",
    "top": "92px",
    "width": "354.2px"
   },
   "toc_section_display": true,
   "toc_window_display": true
  }
 },
 "nbformat": 4,
 "nbformat_minor": 2
}
