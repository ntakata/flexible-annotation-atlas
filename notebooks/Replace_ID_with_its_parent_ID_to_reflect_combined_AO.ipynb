{
 "cells": [
  {
   "cell_type": "markdown",
   "metadata": {},
   "source": [
    "# Replace ROI-ID with its parent one to reflect combined annotation ontology\n",
    "This notebook updates ROI-IDs in annotation volume (AV) with their parent ROIs' IDs to reflect combined anatomical ontology.\n",
    "- inputs\n",
    "    - annotation_100_divided.nrrd\n",
    "    - AObase_c.json\n",
    "    - ID_parentID_AObase.csv\n",
    "- output\n",
    "    - AVbase_c.nrrd"
   ]
  },
  {
   "cell_type": "markdown",
   "metadata": {},
   "source": [
    "# Set variables"
   ]
  },
  {
   "cell_type": "code",
   "execution_count": null,
   "metadata": {},
   "outputs": [],
   "source": [
    "dir_data = 'data'\n",
    "\n",
    "fn_input_AV = 'annotation_100_divided.nrrd'\n",
    "fn_input_AO = 'AObase_c.json'\n",
    "fn_input_csv = 'ID_parentID_AObase.csv'\n",
    "\n",
    "fn_output_AV = 'AVbase_c.nrrd'"
   ]
  },
  {
   "cell_type": "code",
   "execution_count": 40,
   "metadata": {},
   "outputs": [],
   "source": [
    "import os\n",
    "import pandas as pd\n",
    "import nrrd\n",
    "import numpy as np\n",
    "import json\n",
    "import copy\n",
    "from collections import OrderedDict\n",
    "from jsonpath_rw import jsonpath, parse"
   ]
  },
  {
   "cell_type": "markdown",
   "metadata": {},
   "source": [
    "# Load data"
   ]
  },
  {
   "cell_type": "code",
   "execution_count": 42,
   "metadata": {},
   "outputs": [],
   "source": [
    "df_IDpairs = pd.read_csv(os.path.join(dir_data, fn_input_csv))\n",
    "\n",
    "AV, header = nrrd.read(os.path.join(dir_data, fn_input_AV))\n",
    "# ID_unique = np.unique(AV) ##?\n",
    "\n",
    "with open(os.path.join(dir_data, fn_input_AO)) as f:\n",
    "    df_combinedAO = json.load(f, object_pairs_hook=OrderedDict)"
   ]
  },
  {
   "cell_type": "code",
   "execution_count": 43,
   "metadata": {},
   "outputs": [],
   "source": [
    "jsonpath_expr = parse('$..id')\n",
    "IDacronym_list = [[match.value, \\\n",
    "                  eval(\"df_combinedAO['msg'][0]\" + str(match.full_path).\\\n",
    "                      replace('.', '').replace('children', \"['children']\").\\\n",
    "                       replace('id',\"\") + \"['acronym']\")]\n",
    "                 for match in jsonpath_expr.find(df_combinedAO['msg'][0])]\n",
    "df_IDs_in_combinedAO = pd.DataFrame(IDacronym_list, columns = ['ID', 'acronym'])"
   ]
  },
  {
   "cell_type": "markdown",
   "metadata": {},
   "source": [
    "# Get pairs of deleted ID and its parents ID that exist in combined AO"
   ]
  },
  {
   "cell_type": "code",
   "execution_count": 44,
   "metadata": {},
   "outputs": [],
   "source": [
    "ID_pairs = df_IDpairs.ID.values\n",
    "IDs_in_combined_AO = df_IDs_in_combinedAO.ID.values\n",
    "DeletedIDs = set(ID_pairs) ^ set(IDs_in_combined_AO)"
   ]
  },
  {
   "cell_type": "code",
   "execution_count": 45,
   "metadata": {},
   "outputs": [],
   "source": [
    "def getParentID(childID):\n",
    "    return df_IDpairs[df_IDpairs['ID'] == childID].parentID.fillna(-1).astype(int).values[0]"
   ]
  },
  {
   "cell_type": "code",
   "execution_count": 46,
   "metadata": {},
   "outputs": [],
   "source": [
    "OriginalID = []\n",
    "ParentID = []\n",
    "for idx, i in enumerate(DeletedIDs):\n",
    "    ttemp = i\n",
    "    while ttemp not in IDs_in_combined_AO:\n",
    "        ttemp = getParentID(ttemp)\n",
    "    OriginalID.append(i)\n",
    "    ParentID.append(ttemp)"
   ]
  },
  {
   "cell_type": "markdown",
   "metadata": {},
   "source": [
    "# Update IDs in AV to reflect combined IDs in AO"
   ]
  },
  {
   "cell_type": "code",
   "execution_count": 47,
   "metadata": {},
   "outputs": [],
   "source": [
    "AV_corrected = copy.deepcopy(AV)\n",
    "for idx, oriID in enumerate(OriginalID):\n",
    "    AV_corrected[AV_corrected == oriID] = ParentID[idx] "
   ]
  },
  {
   "cell_type": "markdown",
   "metadata": {},
   "source": [
    "# Save annotation volume"
   ]
  },
  {
   "cell_type": "code",
   "execution_count": 48,
   "metadata": {},
   "outputs": [],
   "source": [
    "nrrd.write(os.path.join(dir_data, fn_output_AV), AV_corrected, header)"
   ]
  },
  {
   "cell_type": "markdown",
   "metadata": {},
   "source": [
    "# Check data"
   ]
  },
  {
   "cell_type": "code",
   "execution_count": 49,
   "metadata": {},
   "outputs": [
    {
     "name": "stdout",
     "output_type": "stream",
     "text": [
      "(865, 2)\n"
     ]
    },
    {
     "data": {
      "text/html": [
       "<div>\n",
       "<style scoped>\n",
       "    .dataframe tbody tr th:only-of-type {\n",
       "        vertical-align: middle;\n",
       "    }\n",
       "\n",
       "    .dataframe tbody tr th {\n",
       "        vertical-align: top;\n",
       "    }\n",
       "\n",
       "    .dataframe thead th {\n",
       "        text-align: right;\n",
       "    }\n",
       "</style>\n",
       "<table border=\"1\" class=\"dataframe\">\n",
       "  <thead>\n",
       "    <tr style=\"text-align: right;\">\n",
       "      <th></th>\n",
       "      <th>ID</th>\n",
       "      <th>parentID</th>\n",
       "    </tr>\n",
       "  </thead>\n",
       "  <tbody>\n",
       "    <tr>\n",
       "      <th>0</th>\n",
       "      <td>997</td>\n",
       "      <td>NaN</td>\n",
       "    </tr>\n",
       "    <tr>\n",
       "      <th>1</th>\n",
       "      <td>8</td>\n",
       "      <td>997.0</td>\n",
       "    </tr>\n",
       "    <tr>\n",
       "      <th>2</th>\n",
       "      <td>567</td>\n",
       "      <td>8.0</td>\n",
       "    </tr>\n",
       "    <tr>\n",
       "      <th>3</th>\n",
       "      <td>688</td>\n",
       "      <td>567.0</td>\n",
       "    </tr>\n",
       "    <tr>\n",
       "      <th>4</th>\n",
       "      <td>695</td>\n",
       "      <td>688.0</td>\n",
       "    </tr>\n",
       "  </tbody>\n",
       "</table>\n",
       "</div>"
      ],
      "text/plain": [
       "    ID  parentID\n",
       "0  997       NaN\n",
       "1    8     997.0\n",
       "2  567       8.0\n",
       "3  688     567.0\n",
       "4  695     688.0"
      ]
     },
     "execution_count": 49,
     "metadata": {},
     "output_type": "execute_result"
    }
   ],
   "source": [
    "print(df_IDpairs.shape)\n",
    "df_IDpairs.head() # IDpairs"
   ]
  },
  {
   "cell_type": "code",
   "execution_count": 50,
   "metadata": {},
   "outputs": [
    {
     "name": "stdout",
     "output_type": "stream",
     "text": [
      "(688, 2)\n"
     ]
    },
    {
     "data": {
      "text/html": [
       "<div>\n",
       "<style scoped>\n",
       "    .dataframe tbody tr th:only-of-type {\n",
       "        vertical-align: middle;\n",
       "    }\n",
       "\n",
       "    .dataframe tbody tr th {\n",
       "        vertical-align: top;\n",
       "    }\n",
       "\n",
       "    .dataframe thead th {\n",
       "        text-align: right;\n",
       "    }\n",
       "</style>\n",
       "<table border=\"1\" class=\"dataframe\">\n",
       "  <thead>\n",
       "    <tr style=\"text-align: right;\">\n",
       "      <th></th>\n",
       "      <th>ID</th>\n",
       "      <th>acronym</th>\n",
       "    </tr>\n",
       "  </thead>\n",
       "  <tbody>\n",
       "    <tr>\n",
       "      <th>0</th>\n",
       "      <td>997</td>\n",
       "      <td>root</td>\n",
       "    </tr>\n",
       "    <tr>\n",
       "      <th>1</th>\n",
       "      <td>8</td>\n",
       "      <td>grey</td>\n",
       "    </tr>\n",
       "    <tr>\n",
       "      <th>2</th>\n",
       "      <td>567</td>\n",
       "      <td>CH</td>\n",
       "    </tr>\n",
       "    <tr>\n",
       "      <th>3</th>\n",
       "      <td>688</td>\n",
       "      <td>CTX</td>\n",
       "    </tr>\n",
       "    <tr>\n",
       "      <th>4</th>\n",
       "      <td>695</td>\n",
       "      <td>CTXpl</td>\n",
       "    </tr>\n",
       "  </tbody>\n",
       "</table>\n",
       "</div>"
      ],
      "text/plain": [
       "    ID acronym\n",
       "0  997    root\n",
       "1    8    grey\n",
       "2  567      CH\n",
       "3  688     CTX\n",
       "4  695   CTXpl"
      ]
     },
     "execution_count": 50,
     "metadata": {},
     "output_type": "execute_result"
    }
   ],
   "source": [
    "print(df_IDs_in_combinedAO.shape)\n",
    "df_IDs_in_combinedAO.head() # IDs_in_combined_AO"
   ]
  },
  {
   "cell_type": "code",
   "execution_count": 51,
   "metadata": {},
   "outputs": [
    {
     "data": {
      "text/plain": [
       "177"
      ]
     },
     "execution_count": 51,
     "metadata": {},
     "output_type": "execute_result"
    }
   ],
   "source": [
    "len(DeletedIDs)"
   ]
  },
  {
   "cell_type": "code",
   "execution_count": 52,
   "metadata": {},
   "outputs": [
    {
     "name": "stdout",
     "output_type": "stream",
     "text": [
      "670\n",
      "551\n"
     ]
    }
   ],
   "source": [
    "print(len(set(AV.flatten()))) # 69. count of unique ID in input annotation volume\n",
    "print(len(set(AV_corrected.flatten()))) # 69"
   ]
  }
 ],
 "metadata": {
  "kernelspec": {
   "display_name": "Python 3",
   "language": "python",
   "name": "python3"
  },
  "language_info": {
   "codemirror_mode": {
    "name": "ipython",
    "version": 3
   },
   "file_extension": ".py",
   "mimetype": "text/x-python",
   "name": "python",
   "nbconvert_exporter": "python",
   "pygments_lexer": "ipython3",
   "version": "3.7.1"
  },
  "toc": {
   "base_numbering": 1,
   "nav_menu": {},
   "number_sections": true,
   "sideBar": true,
   "skip_h1_title": false,
   "title_cell": "Table of Contents",
   "title_sidebar": "Contents",
   "toc_cell": false,
   "toc_position": {
    "height": "826px",
    "left": "7px",
    "top": "131px",
    "width": "381.4px"
   },
   "toc_section_display": true,
   "toc_window_display": true
  }
 },
 "nbformat": 4,
 "nbformat_minor": 2
}
