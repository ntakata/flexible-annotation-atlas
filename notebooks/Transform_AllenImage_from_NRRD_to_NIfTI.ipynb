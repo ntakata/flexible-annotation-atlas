{
 "cells": [
  {
   "cell_type": "markdown",
   "metadata": {},
   "source": [
    "# Transform Allen image from NRRD to NIfTI-1\n",
    "This notebook 1) transforms format of a volume file from NRRD to NIfTI-1, and 2) changes orientaion of an original NRRD-image of Allen Institute for Brain Science (AIBS) from PIR (posterior, inferior, right) to RAS (right, anterior, superior) that is typically used in NIfTI standard. Orientation information is stored both in s- and q-form. Also note that data type is changed from uint32 to uint16 when an input file is annotation volume (AV) with its ID remapped.\n",
    "\n",
    "- input file is one of the following\n",
    "    - annotation_100.nrrd # the original AV from AIBS\n",
    "    - average_template_100.nrrd # the original average template from AIBS\n",
    "    - annotation_100_csf/gray/root/white.nrrd # Get_gray_white_csf_volume.ipynb\n",
    "- output file\n",
    "    - input filename + '_RAS.nii'"
   ]
  },
  {
   "cell_type": "code",
   "execution_count": 38,
   "metadata": {},
   "outputs": [
    {
     "name": "stdout",
     "output_type": "stream",
     "text": [
      "<class 'numpy.uint16'>\n"
     ]
    }
   ],
   "source": [
    "dir_data = 'data'\n",
    "\n",
    "fn_input = 'annotation_100_remapID.nrrd'"
   ]
  },
  {
   "cell_type": "code",
   "execution_count": 37,
   "metadata": {},
   "outputs": [],
   "source": [
    "import os\n",
    "import nrrd\n",
    "import numpy as np\n",
    "import copy\n",
    "import nibabel as nib\n",
    "\n",
    "if fn_input == 'annotation_100.nrrd':\n",
    "    dtype = np.uint32 # the original data type\n",
    "else:\n",
    "    dtype = np.uint16\n",
    "print(dtype)\n",
    "\n",
    "fn_wo_ext = os.path.splitext(fn_input)[0]\n",
    "fn_output = fn_wo_ext + '_RAS.nii'\n",
    "\n",
    "affine_from_PIR_to_RAS = np.array([[0,0,1,-57], [-1,0,0,54],[0,-1,0,0],[0,0,0,1]])"
   ]
  },
  {
   "cell_type": "markdown",
   "metadata": {},
   "source": [
    "# Data transformation\n",
    "- file format from NRRD to NIfTI-1\n",
    "- copy sform affine matrix to that of qform\n",
    "- data type from uint32 to uint16 when appropriate"
   ]
  },
  {
   "cell_type": "code",
   "execution_count": 39,
   "metadata": {},
   "outputs": [],
   "source": [
    "img, _ = nrrd.read(os.path.join(dir_data, fn_input))\n",
    "img_nifti = nib.Nifti1Image(img.astype(dtype), affine_from_PIR_to_RAS)\n",
    "sform_code = img_nifti.header.get_sform(coded=True)[1] # 2 indicates 'aligned to a template'\n",
    "img_nifti.header.set_qform(affine_from_PIR_to_RAS, sform_code)\n",
    "img_nifti.header.set_xyzt_units('mm',None) # unit for the original nrrd-image is micron."
   ]
  },
  {
   "cell_type": "markdown",
   "metadata": {},
   "source": [
    "# Save data"
   ]
  },
  {
   "cell_type": "code",
   "execution_count": 40,
   "metadata": {},
   "outputs": [],
   "source": [
    "nib.save(img_nifti, os.path.join(dir_data,fn_output))"
   ]
  },
  {
   "cell_type": "markdown",
   "metadata": {},
   "source": [
    "# Check data"
   ]
  },
  {
   "cell_type": "code",
   "execution_count": 41,
   "metadata": {},
   "outputs": [
    {
     "name": "stdout",
     "output_type": "stream",
     "text": [
      "<class 'nibabel.nifti1.Nifti1Header'> object, endian='<'\n",
      "sizeof_hdr      : 348\n",
      "data_type       : b''\n",
      "db_name         : b''\n",
      "extents         : 0\n",
      "session_error   : 0\n",
      "regular         : b''\n",
      "dim_info        : 0\n",
      "dim             : [  3 132  80 114   1   1   1   1]\n",
      "intent_p1       : 0.0\n",
      "intent_p2       : 0.0\n",
      "intent_p3       : 0.0\n",
      "intent_code     : none\n",
      "datatype        : uint16\n",
      "bitpix          : 16\n",
      "slice_start     : 0\n",
      "pixdim          : [1. 1. 1. 1. 1. 1. 1. 1.]\n",
      "vox_offset      : 0.0\n",
      "scl_slope       : nan\n",
      "scl_inter       : nan\n",
      "slice_end       : 0\n",
      "slice_code      : unknown\n",
      "xyzt_units      : 2\n",
      "cal_max         : 0.0\n",
      "cal_min         : 0.0\n",
      "slice_duration  : 0.0\n",
      "toffset         : 0.0\n",
      "glmax           : 0\n",
      "glmin           : 0\n",
      "descrip         : b''\n",
      "aux_file        : b''\n",
      "qform_code      : aligned\n",
      "sform_code      : aligned\n",
      "quatern_b       : -0.5\n",
      "quatern_c       : 0.5\n",
      "quatern_d       : -0.5\n",
      "qoffset_x       : -57.0\n",
      "qoffset_y       : 54.0\n",
      "qoffset_z       : 0.0\n",
      "srow_x          : [  0.   0.   1. -57.]\n",
      "srow_y          : [-1.  0.  0. 54.]\n",
      "srow_z          : [ 0. -1.  0.  0.]\n",
      "intent_name     : b''\n",
      "magic           : b'n+1'\n"
     ]
    }
   ],
   "source": [
    "print(img_nifti.header)"
   ]
  },
  {
   "cell_type": "code",
   "execution_count": 42,
   "metadata": {},
   "outputs": [
    {
     "data": {
      "image/png": "[encoded data removed]",
      "text/plain": [
       "<Figure size 432x288 with 1 Axes>"
      ]
     },
     "metadata": {
      "needs_background": "light"
     },
     "output_type": "display_data"
    }
   ],
   "source": [
    "import matplotlib.pyplot as plt\n",
    "plt.imshow(img_nifti.get_fdata()[50,:,:],cmap='jet')# jet prism\n",
    "plt.clim(0,1000)"
   ]
  }
 ],
 "metadata": {
  "kernelspec": {
   "display_name": "Python 3",
   "language": "python",
   "name": "python3"
  },
  "language_info": {
   "codemirror_mode": {
    "name": "ipython",
    "version": 3
   },
   "file_extension": ".py",
   "mimetype": "text/x-python",
   "name": "python",
   "nbconvert_exporter": "python",
   "pygments_lexer": "ipython3",
   "version": "3.7.1"
  },
  "toc": {
   "base_numbering": 1,
   "nav_menu": {},
   "number_sections": true,
   "sideBar": true,
   "skip_h1_title": false,
   "title_cell": "Table of Contents",
   "title_sidebar": "Contents",
   "toc_cell": false,
   "toc_position": {
    "height": "calc(100% - 180px)",
    "left": "10px",
    "top": "150px",
    "width": "384px"
   },
   "toc_section_display": true,
   "toc_window_display": true
  }
 },
 "nbformat": 4,
 "nbformat_minor": 2
}
