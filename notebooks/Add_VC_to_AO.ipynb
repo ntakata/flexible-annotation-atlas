{
 "cells": [
  {
   "cell_type": "markdown",
   "metadata": {},
   "source": [
    "# Add voxel counts in annotation volume to an anatomical ontology file\n",
    "Using the original annotation volume (AV) and anatomical ontology (AO) file of the mouse brain by Allen Institute for Brain Science (AIBS), this notebook checks voxel counts (VC) for each brain structure in AV, and adds them to AO file.\n",
    "\n",
    "Prepare directories 'data', 'gene_data', 'fiber_data' and 'figs' at a working directory. Put the original files by AIBS, '1.json' and 'annotation_100.nrrd', at 'data' folder. Output files are saved in the above folders.\n",
    "\n",
    "- input files\n",
    "    - annotation_100.nrrd: The original AV by AIBS\n",
    "    - 1.json: The original AO file by AIBS\n",
    "- output file\n",
    "    - 1_VC.json: AO file with voxel counts for each brain structure"
   ]
  },
  {
   "cell_type": "markdown",
   "metadata": {},
   "source": [
    "# Set variables"
   ]
  },
  {
   "cell_type": "code",
   "execution_count": 99,
   "metadata": {},
   "outputs": [],
   "source": [
    "dir_data = 'data'\n",
    "fn_input_AV = 'annotation_100.nrrd' # filename (fn) for annotation volume\n",
    "fn_input_AO = '1.json' # fn for anatomical ontology\n",
    "fn_output_AO = '1_VC.json' # fn for anatomical ontology with voxel counts"
   ]
  },
  {
   "cell_type": "code",
   "execution_count": 98,
   "metadata": {},
   "outputs": [],
   "source": [
    "import os\n",
    "import nrrd\n",
    "import numpy as np\n",
    "import pandas as pd\n",
    "import json\n",
    "import copy\n",
    "from collections import OrderedDict\n",
    "from jsonpath_rw import jsonpath, parse"
   ]
  },
  {
   "cell_type": "markdown",
   "metadata": {},
   "source": [
    "# Load data"
   ]
  },
  {
   "cell_type": "code",
   "execution_count": 100,
   "metadata": {
    "code_folding": []
   },
   "outputs": [],
   "source": [
    "AV, Header = nrrd.read(os.path.join(dir_data, fn_input_AV))\n",
    "\n",
    "ID_unique = np.unique(AV)\n",
    "IDvc_list = [[i, np.sum(AV == i)] for i in ID_unique]\n",
    "IDvc = pd.DataFrame(IDvc_list, columns=['ID', 'voxel_count'])\n",
    "\n",
    "with open(os.path.join(dir_data, fn_input_AO)) as f:\n",
    "    df = json.load(f, object_pairs_hook=OrderedDict)"
   ]
  },
  {
   "cell_type": "markdown",
   "metadata": {},
   "source": [
    "# Add voxel-counts to an annotation ontology file"
   ]
  },
  {
   "cell_type": "code",
   "execution_count": 101,
   "metadata": {
    "code_folding": []
   },
   "outputs": [],
   "source": [
    "def Add_VC_to_AO(match_id, match_fullpath):\n",
    "    global df_VC\n",
    "    global IDvc\n",
    "    if IDvc['ID'].isin([match_id]).any():\n",
    "        temp_voxelcount = IDvc.loc[IDvc['ID'] == match_id, 'voxel_count'].tolist()[0]\n",
    "    else:\n",
    "        temp_voxelcount = None\n",
    "    exec(\"df_VC['msg'][0]\"+\\\n",
    "         str(match_fullpath).replace('.','')\\\n",
    "          .replace('children', \"['children']\").replace('id', '')+\\\n",
    "         \"['voxel_count'] = \"+ str(temp_voxelcount))\n",
    "    return"
   ]
  },
  {
   "cell_type": "code",
   "execution_count": 102,
   "metadata": {
    "code_folding": []
   },
   "outputs": [],
   "source": [
    "jsonpath_expr = parse('$..id')\n",
    "df_VC = copy.deepcopy(df)\n",
    "[Add_VC_to_AO(match.value, match.full_path) \\\n",
    " for match in jsonpath_expr.find(df_VC['msg'][0])];"
   ]
  },
  {
   "cell_type": "markdown",
   "metadata": {},
   "source": [
    "# Save AO with voxel counts"
   ]
  },
  {
   "cell_type": "code",
   "execution_count": 103,
   "metadata": {},
   "outputs": [],
   "source": [
    "with open(os.path.join(dir_data, fn_output_AO), mode='w') as fw:\n",
    "    json.dump(df_VC, fw, indent=4)"
   ]
  },
  {
   "cell_type": "markdown",
   "metadata": {},
   "source": [
    "# Check data"
   ]
  },
  {
   "cell_type": "code",
   "execution_count": 104,
   "metadata": {},
   "outputs": [
    {
     "name": "stdout",
     "output_type": "stream",
     "text": [
      "Data type of the annotation volume:  uint32\n",
      "# unique ID:  1098\n",
      "# total voxel:  1203840\n",
      "# brain voxel:  501770\n",
      "# outside brain voxel:  702070\n"
     ]
    },
    {
     "data": {
      "text/html": [
       "<div>\n",
       "<style scoped>\n",
       "    .dataframe tbody tr th:only-of-type {\n",
       "        vertical-align: middle;\n",
       "    }\n",
       "\n",
       "    .dataframe tbody tr th {\n",
       "        vertical-align: top;\n",
       "    }\n",
       "\n",
       "    .dataframe thead th {\n",
       "        text-align: right;\n",
       "    }\n",
       "</style>\n",
       "<table border=\"1\" class=\"dataframe\">\n",
       "  <thead>\n",
       "    <tr style=\"text-align: right;\">\n",
       "      <th></th>\n",
       "      <th>ID</th>\n",
       "      <th>voxel_count</th>\n",
       "    </tr>\n",
       "  </thead>\n",
       "  <tbody>\n",
       "    <tr>\n",
       "      <th>0</th>\n",
       "      <td>0</td>\n",
       "      <td>702070</td>\n",
       "    </tr>\n",
       "    <tr>\n",
       "      <th>1</th>\n",
       "      <td>1</td>\n",
       "      <td>54</td>\n",
       "    </tr>\n",
       "    <tr>\n",
       "      <th>2</th>\n",
       "      <td>2</td>\n",
       "      <td>63</td>\n",
       "    </tr>\n",
       "    <tr>\n",
       "      <th>3</th>\n",
       "      <td>7</td>\n",
       "      <td>550</td>\n",
       "    </tr>\n",
       "    <tr>\n",
       "      <th>4</th>\n",
       "      <td>9</td>\n",
       "      <td>115</td>\n",
       "    </tr>\n",
       "  </tbody>\n",
       "</table>\n",
       "</div>"
      ],
      "text/plain": [
       "   ID  voxel_count\n",
       "0   0       702070\n",
       "1   1           54\n",
       "2   2           63\n",
       "3   7          550\n",
       "4   9          115"
      ]
     },
     "execution_count": 104,
     "metadata": {},
     "output_type": "execute_result"
    }
   ],
   "source": [
    "print(\"Data type of the annotation volume: \", AV.dtype) # uint32\n",
    "print(\"# unique ID: \", np.unique(AV).size) # There is 670 unique ID in AV\n",
    "print('# total voxel: ', np.size(AV)) # 1203840 voxels\n",
    "print('# brain voxel: ', np.sum(AV!=0)) # 505359\n",
    "print('# outside brain voxel: ', np.sum(AV==0)) # 698481\n",
    "IDvc.head()"
   ]
  }
 ],
 "metadata": {
  "kernelspec": {
   "display_name": "Python 3",
   "language": "python",
   "name": "python3"
  },
  "language_info": {
   "codemirror_mode": {
    "name": "ipython",
    "version": 3
   },
   "file_extension": ".py",
   "mimetype": "text/x-python",
   "name": "python",
   "nbconvert_exporter": "python",
   "pygments_lexer": "ipython3",
   "version": "3.7.1"
  },
  "toc": {
   "base_numbering": 1,
   "nav_menu": {},
   "number_sections": true,
   "sideBar": true,
   "skip_h1_title": false,
   "title_cell": "Table of Contents",
   "title_sidebar": "Contents",
   "toc_cell": false,
   "toc_position": {
    "height": "calc(100% - 180px)",
    "left": "10px",
    "top": "150px",
    "width": "384px"
   },
   "toc_section_display": true,
   "toc_window_display": true
  }
 },
 "nbformat": 4,
 "nbformat_minor": 2
}
