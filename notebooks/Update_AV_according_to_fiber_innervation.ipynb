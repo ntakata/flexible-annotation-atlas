{
 "cells": [
  {
   "cell_type": "markdown",
   "metadata": {},
   "source": [
    "# Update ID in annotation volume to reflect segmentation of ROI by fiber innervation\n",
    "\n",
    "- inputs\n",
    "    - annotation_100_segmented_combined_gene.nrrd\n",
    "    - AV_target_ROI_ID_672_fiber_from_AI_to_CP.nrrd\n",
    "- output\n",
    "    - annotation_100_segmented_combined_gene_fiber.nrrd"
   ]
  },
  {
   "cell_type": "code",
   "execution_count": 11,
   "metadata": {},
   "outputs": [],
   "source": [
    "Target_ROI_ID = 672 \n",
    "Fiber_from ='AI' # injection structure in ID or acronym\n",
    "Fiber_to = 'CP' # Caudoputamen, id 672, target structure in ID or acronym\n",
    "\n",
    "dir_data = 'data'\n",
    "dir_fig = 'figs'\n",
    "dir_fiber = 'fiber_data\\\\From_AI_TO_CP\\\\'\n",
    "\n",
    "fn_input_AV_ori = 'AVbase_c_g.nrrd'\n",
    "fn_input_AV_fiber = 'AV_target_ROI_ID_672_fiber_from_AI_to_CP.nrrd'\n",
    "\n",
    "fn_output_AV_update = 'AVbase_c_g_f.nrrd'"
   ]
  },
  {
   "cell_type": "code",
   "execution_count": 10,
   "metadata": {},
   "outputs": [],
   "source": [
    "import os\n",
    "import nrrd\n",
    "import numpy as np\n",
    "import pandas as pd\n",
    "import copy\n",
    "import matplotlib.pyplot as plt\n",
    "\n",
    "# just used for displaying data\n",
    "SliceIdx = 84\n",
    "CoronalIdx = np.linspace(43,53,3)"
   ]
  },
  {
   "cell_type": "markdown",
   "metadata": {},
   "source": [
    "# Load data"
   ]
  },
  {
   "cell_type": "code",
   "execution_count": 12,
   "metadata": {},
   "outputs": [],
   "source": [
    "AV_ori, header = nrrd.read(os.path.join(dir_data, fn_input_AV_ori))\n",
    "AV_fiber, header_fiber = nrrd.read(os.path.join(dir_data, fn_input_AV_fiber))"
   ]
  },
  {
   "cell_type": "markdown",
   "metadata": {},
   "source": [
    "# Check loaded data\n"
   ]
  },
  {
   "cell_type": "markdown",
   "metadata": {},
   "source": [
    "## Fiber innervation"
   ]
  },
  {
   "cell_type": "code",
   "execution_count": 13,
   "metadata": {},
   "outputs": [
    {
     "name": "stdout",
     "output_type": "stream",
     "text": [
      "upper low: fiber innervation high\n",
      "upper low: fiber innervation low\n"
     ]
    },
    {
     "data": {
      "image/png": "[encoded data removed]",
      "text/plain": [
       "<Figure size 432x288 with 6 Axes>"
      ]
     },
     "metadata": {},
     "output_type": "display_data"
    }
   ],
   "source": [
    "print('upper low: fiber innervation high')\n",
    "print('upper low: fiber innervation low')\n",
    "slices = [int(x) for x in CoronalIdx.round()]\n",
    "fig1, ax1 = plt.subplots(2,len(CoronalIdx), facecolor='w')\n",
    "for count, idx in enumerate(slices):\n",
    "    H1 = ax1[0, count].imshow(AV_fiber[idx,:,:], cmap='jet', vmin=0, vmax=1)\n",
    "    H2 = ax1[1,count].imshow(-AV_fiber[idx,:,:], cmap='jet', vmin=0, vmax=0.12)\n",
    "    ax1[0,count].tick_params(labelbottom=False, labelleft=False, bottom=False, left=False)\n",
    "    ax1[1,count].tick_params(labelbottom=False, labelleft=False, bottom=False, left=False)\n",
    "plt.subplots_adjust(wspace=0.1, hspace=0)"
   ]
  },
  {
   "cell_type": "code",
   "execution_count": 14,
   "metadata": {},
   "outputs": [
    {
     "name": "stdout",
     "output_type": "stream",
     "text": [
      "# voxel with high gene expression: 18904\n",
      "# voxel with low gene expression: 7134\n"
     ]
    }
   ],
   "source": [
    "print('# voxel with high gene expression:', np.sum(AV_fiber > 0))\n",
    "print('# voxel with low gene expression:', np.sum(AV_fiber < 0))"
   ]
  },
  {
   "cell_type": "markdown",
   "metadata": {},
   "source": [
    "# Get candidate ID"
   ]
  },
  {
   "cell_type": "code",
   "execution_count": 15,
   "metadata": {},
   "outputs": [],
   "source": [
    "if AV_ori.max() < 10**9:\n",
    "    CandidateID = 10**9\n",
    "else:\n",
    "    CandidateID = AV_ori.max() + 1"
   ]
  },
  {
   "cell_type": "markdown",
   "metadata": {},
   "source": [
    "# Update ID in AV to reflect gene expression\n"
   ]
  },
  {
   "cell_type": "code",
   "execution_count": 16,
   "metadata": {},
   "outputs": [],
   "source": [
    "AV_update = copy.deepcopy(AV_ori)\n",
    "AV_update[AV_fiber > 0] = CandidateID"
   ]
  },
  {
   "cell_type": "markdown",
   "metadata": {},
   "source": [
    "# Save AV"
   ]
  },
  {
   "cell_type": "code",
   "execution_count": 17,
   "metadata": {},
   "outputs": [],
   "source": [
    "nrrd.write(os.path.join(dir_data, fn_output_AV_update), AV_update, header)"
   ]
  },
  {
   "cell_type": "markdown",
   "metadata": {},
   "source": [
    "# Check updated AV"
   ]
  },
  {
   "cell_type": "code",
   "execution_count": 18,
   "metadata": {},
   "outputs": [
    {
     "name": "stdout",
     "output_type": "stream",
     "text": [
      "Target ROI ID: 672\n"
     ]
    },
    {
     "data": {
      "image/png": "[encoded data removed]",
      "text/plain": [
       "<Figure size 1440x2016 with 3 Axes>"
      ]
     },
     "metadata": {},
     "output_type": "display_data"
    }
   ],
   "source": [
    "print('Target ROI ID: '+str(Target_ROI_ID))\n",
    "\n",
    "AV_targetROI = AV_ori == Target_ROI_ID\n",
    "\n",
    "plt.rcParams['font.family'] = 'Times New Roman'\n",
    "plt.rcParams['font.size'] = 20\n",
    "\n",
    "fig2, ax2 = plt.subplots(1,len(CoronalIdx), figsize=(20,28), facecolor='w')\n",
    "for count, idx in enumerate(slices):\n",
    "    ax2[count].imshow(AV_update[idx,:,:] *AV_targetROI[idx,:,:],\\\n",
    "                      aspect='equal', vmin=0, vmax=1500)\n",
    "    ax2[count].tick_params(labelbottom=False, labelleft=False, bottom=False, left=False)"
   ]
  },
  {
   "cell_type": "code",
   "execution_count": null,
   "metadata": {},
   "outputs": [],
   "source": []
  }
 ],
 "metadata": {
  "kernelspec": {
   "display_name": "Python 3",
   "language": "python",
   "name": "python3"
  },
  "language_info": {
   "codemirror_mode": {
    "name": "ipython",
    "version": 3
   },
   "file_extension": ".py",
   "mimetype": "text/x-python",
   "name": "python",
   "nbconvert_exporter": "python",
   "pygments_lexer": "ipython3",
   "version": "3.7.1"
  },
  "toc": {
   "base_numbering": 1,
   "nav_menu": {},
   "number_sections": true,
   "sideBar": true,
   "skip_h1_title": false,
   "title_cell": "Table of Contents",
   "title_sidebar": "Contents",
   "toc_cell": false,
   "toc_position": {},
   "toc_section_display": true,
   "toc_window_display": true
  }
 },
 "nbformat": 4,
 "nbformat_minor": 2
}
