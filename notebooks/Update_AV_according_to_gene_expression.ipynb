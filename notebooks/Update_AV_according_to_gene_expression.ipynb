{
 "cells": [
  {
   "cell_type": "markdown",
   "metadata": {},
   "source": [
    "# Update ID in annotation volume to reflect ROI-division by gene expression\n",
    "\n",
    "- inputs\n",
    "    - AVbase_c.nrrd\n",
    "    - AV_target_ROI_ID_382_gene_74881161.nrrd\n",
    "- output\n",
    "    - AVbase_c_g.nrrd"
   ]
  },
  {
   "cell_type": "code",
   "execution_count": null,
   "metadata": {},
   "outputs": [],
   "source": [
    "ExpID = 74881161\n",
    "Target_ROI_ID = 382\n",
    "\n",
    "dir_data = 'data'\n",
    "dir_fig = 'figs'\n",
    "dir_gene = 'gene_data\\\\74881161\\\\'\n",
    "\n",
    "fn_input_AV_ori = 'AVbase_c.nrrd'\n",
    "fn_input_AV_gene = 'AV_target_ROI_ID_382_gene_74881161.nrrd'\n",
    "\n",
    "fn_output_AV_update = 'AVbase_c_g.nrrd'"
   ]
  },
  {
   "cell_type": "code",
   "execution_count": 11,
   "metadata": {},
   "outputs": [],
   "source": [
    "import os\n",
    "import nrrd\n",
    "import numpy as np\n",
    "import pandas as pd\n",
    "import copy\n",
    "import matplotlib.pyplot as plt\n",
    "\n",
    "# just used for displaying data\n",
    "SliceIdx = 84\n",
    "CoronalIdx = np.linspace(71,84,3)"
   ]
  },
  {
   "cell_type": "markdown",
   "metadata": {},
   "source": [
    "# Load data"
   ]
  },
  {
   "cell_type": "code",
   "execution_count": 13,
   "metadata": {},
   "outputs": [],
   "source": [
    "AV_ori, header = nrrd.read(os.path.join(dir_data, fn_input_AV_ori))\n",
    "AV_gene, header_gene = nrrd.read(os.path.join(dir_data, fn_input_AV_gene))"
   ]
  },
  {
   "cell_type": "markdown",
   "metadata": {},
   "source": [
    "# Check loaded data\n"
   ]
  },
  {
   "cell_type": "code",
   "execution_count": 14,
   "metadata": {},
   "outputs": [
    {
     "data": {
      "text/plain": [
       "1000000028"
      ]
     },
     "execution_count": 14,
     "metadata": {},
     "output_type": "execute_result"
    }
   ],
   "source": [
    "np.max(AV_ori)"
   ]
  },
  {
   "cell_type": "markdown",
   "metadata": {},
   "source": [
    "## Gene expression"
   ]
  },
  {
   "cell_type": "code",
   "execution_count": 15,
   "metadata": {},
   "outputs": [
    {
     "name": "stdout",
     "output_type": "stream",
     "text": [
      "upper low: gene expression high\n",
      "upper low: gene expression low\n"
     ]
    },
    {
     "data": {
      "image/png": "[encoded data removed]",
      "text/plain": [
       "<Figure size 432x288 with 6 Axes>"
      ]
     },
     "metadata": {},
     "output_type": "display_data"
    }
   ],
   "source": [
    "print('upper low: gene expression high')\n",
    "print('upper low: gene expression low')\n",
    "slices = [int(x) for x in CoronalIdx.round()]\n",
    "fig1, ax1 = plt.subplots(2,len(CoronalIdx), facecolor='w')\n",
    "for count, idx in enumerate(slices):\n",
    "    H1 = ax1[0, count].imshow(AV_gene[idx,:,:], cmap='jet', vmin=0, vmax=20)\n",
    "    H2 = ax1[1,count].imshow(-AV_gene[idx,:,:], cmap='jet', vmin=0, vmax=20)\n",
    "    ax1[0,count].tick_params(labelbottom=False, labelleft=False, bottom=False, left=False)\n",
    "    ax1[1,count].tick_params(labelbottom=False, labelleft=False, bottom=False, left=False)\n",
    "plt.subplots_adjust(wspace=0.1, hspace=0)"
   ]
  },
  {
   "cell_type": "code",
   "execution_count": 16,
   "metadata": {},
   "outputs": [
    {
     "name": "stdout",
     "output_type": "stream",
     "text": [
      "# voxel with high gene expression: 3689\n",
      "# voxel with low gene expression: 6589\n"
     ]
    }
   ],
   "source": [
    "print('# voxel with high gene expression:', np.sum(AV_gene > 0))\n",
    "print('# voxel with low gene expression:', np.sum(AV_gene < 0))\n"
   ]
  },
  {
   "cell_type": "markdown",
   "metadata": {},
   "source": [
    "# Get candidate ID"
   ]
  },
  {
   "cell_type": "code",
   "execution_count": 17,
   "metadata": {},
   "outputs": [],
   "source": [
    "if AV_ori.max() < 10**9:\n",
    "    CandidateID = 10**9\n",
    "else:\n",
    "    CandidateID = AV_ori.max() + 1\n"
   ]
  },
  {
   "cell_type": "markdown",
   "metadata": {},
   "source": [
    "# Update ID in AV to reflect gene expression\n"
   ]
  },
  {
   "cell_type": "code",
   "execution_count": 18,
   "metadata": {},
   "outputs": [],
   "source": [
    "AV_update = copy.deepcopy(AV_ori)\n",
    "AV_update[AV_gene > 0] = CandidateID"
   ]
  },
  {
   "cell_type": "markdown",
   "metadata": {},
   "source": [
    "# Save AV"
   ]
  },
  {
   "cell_type": "code",
   "execution_count": 19,
   "metadata": {},
   "outputs": [],
   "source": [
    "nrrd.write(os.path.join(dir_data, fn_output_AV_update), AV_update, header)"
   ]
  },
  {
   "cell_type": "markdown",
   "metadata": {},
   "source": [
    "# Check updated AV"
   ]
  },
  {
   "cell_type": "code",
   "execution_count": 20,
   "metadata": {},
   "outputs": [
    {
     "name": "stdout",
     "output_type": "stream",
     "text": [
      "Target ROI ID: 382\n"
     ]
    },
    {
     "data": {
      "image/png": "[encoded data removed]",
      "text/plain": [
       "<Figure size 1440x2016 with 3 Axes>"
      ]
     },
     "metadata": {},
     "output_type": "display_data"
    }
   ],
   "source": [
    "print('Target ROI ID: '+str(Target_ROI_ID))\n",
    "\n",
    "AV_targetROI = AV_ori == Target_ROI_ID\n",
    "\n",
    "plt.rcParams['font.family'] = 'Times New Roman'\n",
    "plt.rcParams['font.size'] = 20\n",
    "\n",
    "fig2, ax2 = plt.subplots(1,len(CoronalIdx), figsize=(20,28), facecolor='w')\n",
    "for count, idx in enumerate(slices):\n",
    "    ax2[count].imshow(AV_update[idx,:,:] *AV_targetROI[idx,:,:],\\\n",
    "                      aspect='equal', vmin=0, vmax=800)\n",
    "    ax2[count].tick_params(labelbottom=False, labelleft=False, bottom=False, left=False)"
   ]
  }
 ],
 "metadata": {
  "kernelspec": {
   "display_name": "Python 3",
   "language": "python",
   "name": "python3"
  },
  "language_info": {
   "codemirror_mode": {
    "name": "ipython",
    "version": 3
   },
   "file_extension": ".py",
   "mimetype": "text/x-python",
   "name": "python",
   "nbconvert_exporter": "python",
   "pygments_lexer": "ipython3",
   "version": "3.7.1"
  },
  "toc": {
   "base_numbering": 1,
   "nav_menu": {},
   "number_sections": true,
   "sideBar": true,
   "skip_h1_title": false,
   "title_cell": "Table of Contents",
   "title_sidebar": "Contents",
   "toc_cell": false,
   "toc_position": {},
   "toc_section_display": true,
   "toc_window_display": true
  }
 },
 "nbformat": 4,
 "nbformat_minor": 2
}
